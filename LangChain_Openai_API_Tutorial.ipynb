{
  "nbformat": 4,
  "nbformat_minor": 0,
  "metadata": {
    "colab": {
      "provenance": [],
      "authorship_tag": "ABX9TyMAFJqXL0WSoZjug18A64c+",
      "include_colab_link": true
    },
    "kernelspec": {
      "name": "python3",
      "display_name": "Python 3"
    },
    "language_info": {
      "name": "python"
    }
  },
  "cells": [
    {
      "cell_type": "markdown",
      "metadata": {
        "id": "view-in-github",
        "colab_type": "text"
      },
      "source": [
        "<a href=\"https://colab.research.google.com/github/Ahram-41/Time-Series-Analysis/blob/main/LangChain_Openai_API_Tutorial.ipynb\" target=\"_parent\"><img src=\"https://colab.research.google.com/assets/colab-badge.svg\" alt=\"Open In Colab\"/></a>"
      ]
    },
    {
      "cell_type": "code",
      "execution_count": 16,
      "metadata": {
        "colab": {
          "base_uri": "https://localhost:8080/"
        },
        "id": "ThO1XjDiGLt_",
        "outputId": "b2e76b10-8bff-408d-b36a-9503c0aeb782"
      },
      "outputs": [
        {
          "output_type": "stream",
          "name": "stdout",
          "text": [
            "\u001b[?25l   \u001b[90m━━━━━━━━━━━━━━━━━━━━━━━━━━━━━━━━━━━━━━━━\u001b[0m \u001b[32m0.0/2.4 MB\u001b[0m \u001b[31m?\u001b[0m eta \u001b[36m-:--:--\u001b[0m\r\u001b[2K   \u001b[91m━━━━━━━━━━━━━━━━━━━━━━━━━━━\u001b[0m\u001b[90m╺\u001b[0m\u001b[90m━━━━━━━━━━━━\u001b[0m \u001b[32m1.6/2.4 MB\u001b[0m \u001b[31m48.9 MB/s\u001b[0m eta \u001b[36m0:00:01\u001b[0m\r\u001b[2K   \u001b[90m━━━━━━━━━━━━━━━━━━━━━━━━━━━━━━━━━━━━━━━━\u001b[0m \u001b[32m2.4/2.4 MB\u001b[0m \u001b[31m38.1 MB/s\u001b[0m eta \u001b[36m0:00:00\u001b[0m\n",
            "\u001b[2K   \u001b[90m━━━━━━━━━━━━━━━━━━━━━━━━━━━━━━━━━━━━━━━━\u001b[0m \u001b[32m1.0/1.0 MB\u001b[0m \u001b[31m43.0 MB/s\u001b[0m eta \u001b[36m0:00:00\u001b[0m\n",
            "\u001b[2K   \u001b[90m━━━━━━━━━━━━━━━━━━━━━━━━━━━━━━━━━━━━━━━━\u001b[0m \u001b[32m3.1/3.1 MB\u001b[0m \u001b[31m68.6 MB/s\u001b[0m eta \u001b[36m0:00:00\u001b[0m\n",
            "\u001b[2K   \u001b[90m━━━━━━━━━━━━━━━━━━━━━━━━━━━━━━━━━━━━━━━━\u001b[0m \u001b[32m49.5/49.5 kB\u001b[0m \u001b[31m3.2 MB/s\u001b[0m eta \u001b[36m0:00:00\u001b[0m\n",
            "\u001b[?25h"
          ]
        }
      ],
      "source": [
        "!pip install -q openai\n",
        "!pip install -q langchain-openai\n",
        "!pip install -q langchain_community"
      ]
    },
    {
      "cell_type": "code",
      "source": [
        "# importing openai module into your openai environment\n",
        "import openai\n",
        "\n",
        "# assigning API KEY to initialize openai environment\n",
        "openai.api_key = ''\n",
        "\n",
        "# in local env\n",
        "import os\n",
        "os.environ[\"OPENAI_API_KEY\"] =\"\""
      ],
      "metadata": {
        "id": "nmCS-6QYGNB3"
      },
      "execution_count": 2,
      "outputs": []
    },
    {
      "cell_type": "code",
      "source": [
        "from langchain_openai import ChatOpenAI\n",
        "\n",
        "llm = ChatOpenAI(model=\"gpt-4o-mini\")"
      ],
      "metadata": {
        "id": "X3XiG0ijGVlP"
      },
      "execution_count": 11,
      "outputs": []
    },
    {
      "cell_type": "code",
      "source": [
        "llm.invoke(\"how can langsmith help with testing?\")"
      ],
      "metadata": {
        "colab": {
          "base_uri": "https://localhost:8080/"
        },
        "id": "cBqyloYcGZau",
        "outputId": "75188446-c759-4260-80cc-3e4bea537c43"
      },
      "execution_count": 40,
      "outputs": [
        {
          "output_type": "execute_result",
          "data": {
            "text/plain": [
              "AIMessage(content='Langsmith can help with testing in several ways:\\n\\n1. Automated testing: Langsmith can be used to write automated test scripts that can be run repeatedly to ensure that the software functions correctly. This can help to identify bugs and issues early in the development process.\\n\\n2. Test data generation: Langsmith can be used to generate test data that can be used to test the software under different scenarios and conditions. This can help to ensure that the software is robust and can handle a variety of inputs.\\n\\n3. Test case management: Langsmith can be used to manage test cases and track their execution, making it easier to keep track of which tests have been run and which still need to be completed.\\n\\n4. Performance testing: Langsmith can be used to simulate high loads and stress on the software to test its performance under different conditions. This can help to identify performance bottlenecks and optimize the software for better performance.\\n\\nOverall, Langsmith can help with testing by providing tools and capabilities to automate, manage, and optimize the testing process, leading to more reliable and high-quality software.', additional_kwargs={'refusal': None}, response_metadata={'token_usage': {'completion_tokens': 216, 'prompt_tokens': 15, 'total_tokens': 231, 'completion_tokens_details': {'audio_tokens': 0, 'reasoning_tokens': 0, 'accepted_prediction_tokens': 0, 'rejected_prediction_tokens': 0}, 'prompt_tokens_details': {'audio_tokens': 0, 'cached_tokens': 0}}, 'model_name': 'gpt-3.5-turbo-0125', 'system_fingerprint': None, 'finish_reason': 'stop', 'logprobs': None}, id='run-fd7630ac-39fb-41fe-bf35-ed1b2253af3b-0', usage_metadata={'input_tokens': 15, 'output_tokens': 216, 'total_tokens': 231, 'input_token_details': {'audio': 0, 'cache_read': 0}, 'output_token_details': {'audio': 0, 'reasoning': 0}})"
            ]
          },
          "metadata": {},
          "execution_count": 40
        }
      ]
    },
    {
      "cell_type": "markdown",
      "source": [
        "We can also guide its response with a prompt template. Prompt templates convert raw user input to better input to the LLM.\n",
        "\n",
        "The output of a ChatModel (and therefore, of this chain) is a message. However, it's often much more convenient to work with strings. Let's add a simple output parser to convert the chat message to a string."
      ],
      "metadata": {
        "id": "w7w_3fpQMsoG"
      }
    },
    {
      "cell_type": "code",
      "source": [
        "from langchain_core.prompts import ChatPromptTemplate\n",
        "prompt = ChatPromptTemplate.from_messages([\n",
        "    (\"system\", \"You are a world class technical documentation writer.\"),\n",
        "    (\"user\", \"{input}\")\n",
        "])\n",
        "\n",
        "from langchain_core.output_parsers import StrOutputParser\n",
        "output_parser = StrOutputParser()"
      ],
      "metadata": {
        "id": "Hiyrj7DmGggP"
      },
      "execution_count": 13,
      "outputs": []
    },
    {
      "cell_type": "markdown",
      "source": [
        "combine into a chain:"
      ],
      "metadata": {
        "id": "TF-b_lhSM2CG"
      }
    },
    {
      "cell_type": "code",
      "source": [
        "chain = prompt | llm | output_parser"
      ],
      "metadata": {
        "id": "Rkuq3az_Mx4w"
      },
      "execution_count": 14,
      "outputs": []
    },
    {
      "cell_type": "code",
      "source": [
        "chain.invoke({\"input\": \"how can langsmith help with testing?\"})"
      ],
      "metadata": {
        "colab": {
          "base_uri": "https://localhost:8080/",
          "height": 105
        },
        "id": "lXYh2vLEMymO",
        "outputId": "d9a809f5-0494-4756-d1b7-ece886b7cf87"
      },
      "execution_count": 15,
      "outputs": [
        {
          "output_type": "execute_result",
          "data": {
            "text/plain": [
              "\"LangSmith is a platform designed to enhance the development, testing, and deployment of AI-driven applications, particularly those that utilize language models. Here are several ways LangSmith can assist with testing:\\n\\n1. **Automated Test Generation**: LangSmith can help generate automated test cases for your language models. By analyzing the model's expected behavior, it can create diverse test scenarios, including edge cases that might not be immediately apparent.\\n\\n2. **Test Coverage Analysis**: The platform can assess the coverage of your tests, ensuring that all relevant functionalities of the language model are being evaluated. This helps identify gaps in your testing strategy.\\n\\n3. **Performance Benchmarking**: LangSmith can facilitate the benchmarking of language models under various conditions. This includes testing for latency, accuracy, and throughput, helping you evaluate how well your model performs in real-world scenarios.\\n\\n4. **Error Analysis**: With its analytical tools, LangSmith can help you identify patterns in errors generated by the language model. This insight allows developers to understand common failure points and refine the model accordingly.\\n\\n5. **Version Control for Models**: LangSmith can assist in managing different versions of your language models, enabling you to test and compare performance across versions systematically.\\n\\n6. **Integration Testing**: The platform can help ensure that the language model integrates well with other components of your application. You can run tests to verify that the model interacts correctly with APIs, databases, and user interfaces.\\n\\n7. **User Simulation**: LangSmith can simulate user interactions with the language model, allowing you to test how well it responds to real-world queries and commands. This can be particularly useful for conversational AI applications.\\n\\n8. **Feedback Loop**: The platform can streamline the feedback process, allowing testers and end-users to report anomalies or issues with the model's performance, which can then be prioritized for further testing and refinement.\\n\\n9. **Documentation and Reporting**: LangSmith can generate reports on test results, document the testing process, and provide insights into the overall health of your language model. This ensures that stakeholders are informed about model performance and areas needing improvement.\\n\\n10. **Continuous Integration/Continuous Deployment (CI/CD)**: Integration with CI/CD pipelines allows for ongoing testing of language models as part of the development lifecycle, ensuring that changes do not introduce regressions.\\n\\nBy leveraging these capabilities, LangSmith can significantly enhance the testing process for AI models, providing a robust framework for ensuring quality and reliability in language-driven applications.\""
            ],
            "application/vnd.google.colaboratory.intrinsic+json": {
              "type": "string"
            }
          },
          "metadata": {},
          "execution_count": 15
        }
      ]
    },
    {
      "cell_type": "markdown",
      "source": [
        "# Retriever Chain\n",
        "\n",
        " import and use WebBaseLoader"
      ],
      "metadata": {
        "id": "7O2MxlhHNn8m"
      }
    },
    {
      "cell_type": "code",
      "source": [
        "!pip install beautifulsoup4\n",
        "!pip install faiss-cpu"
      ],
      "metadata": {
        "colab": {
          "base_uri": "https://localhost:8080/"
        },
        "id": "XEu7QXFjNrYK",
        "outputId": "e777e026-0221-42da-ecc9-2b616607d6a8"
      },
      "execution_count": 19,
      "outputs": [
        {
          "output_type": "stream",
          "name": "stdout",
          "text": [
            "Requirement already satisfied: beautifulsoup4 in /usr/local/lib/python3.10/dist-packages (4.12.3)\n",
            "Requirement already satisfied: soupsieve>1.2 in /usr/local/lib/python3.10/dist-packages (from beautifulsoup4) (2.6)\n",
            "Collecting faiss-cpu\n",
            "  Downloading faiss_cpu-1.9.0-cp310-cp310-manylinux_2_17_x86_64.manylinux2014_x86_64.whl.metadata (4.4 kB)\n",
            "Requirement already satisfied: numpy<3.0,>=1.25.0 in /usr/local/lib/python3.10/dist-packages (from faiss-cpu) (1.26.4)\n",
            "Requirement already satisfied: packaging in /usr/local/lib/python3.10/dist-packages (from faiss-cpu) (24.1)\n",
            "Downloading faiss_cpu-1.9.0-cp310-cp310-manylinux_2_17_x86_64.manylinux2014_x86_64.whl (27.5 MB)\n",
            "\u001b[2K   \u001b[90m━━━━━━━━━━━━━━━━━━━━━━━━━━━━━━━━━━━━━━━━\u001b[0m \u001b[32m27.5/27.5 MB\u001b[0m \u001b[31m51.7 MB/s\u001b[0m eta \u001b[36m0:00:00\u001b[0m\n",
            "\u001b[?25hInstalling collected packages: faiss-cpu\n",
            "Successfully installed faiss-cpu-1.9.0\n"
          ]
        }
      ]
    },
    {
      "cell_type": "code",
      "source": [
        "from langchain_community.document_loaders import WebBaseLoader\n",
        "loader = WebBaseLoader(\"https://docs.smith.langchain.com/user_guide\")\n",
        "\n",
        "docs = loader.load()"
      ],
      "metadata": {
        "colab": {
          "base_uri": "https://localhost:8080/"
        },
        "id": "8AlMRN8eN0Rx",
        "outputId": "6c1cc782-568a-4c20-d1c8-6ce87d2c52f5"
      },
      "execution_count": 18,
      "outputs": [
        {
          "output_type": "stream",
          "name": "stderr",
          "text": [
            "WARNING:langchain_community.utils.user_agent:USER_AGENT environment variable not set, consider setting it to identify your requests.\n"
          ]
        }
      ]
    },
    {
      "cell_type": "markdown",
      "source": [
        "Then index it into a vectorstore. This requires a few components, namely an embedding model and a vectorstore.\n",
        "\n",
        "For embedding models, we once again provide examples for accessing via API or by running local models"
      ],
      "metadata": {
        "id": "l4fhRdayN_BA"
      }
    },
    {
      "cell_type": "code",
      "source": [
        "from langchain_openai import OpenAIEmbeddings\n",
        "\n",
        "embeddings = OpenAIEmbeddings()"
      ],
      "metadata": {
        "id": "_WzZlN1wOCCv"
      },
      "execution_count": 20,
      "outputs": []
    },
    {
      "cell_type": "code",
      "source": [
        "from langchain_community.vectorstores import FAISS\n",
        "from langchain_text_splitters import RecursiveCharacterTextSplitter\n",
        "\n",
        "\n",
        "text_splitter = RecursiveCharacterTextSplitter()\n",
        "documents = text_splitter.split_documents(docs)\n",
        "vector = FAISS.from_documents(documents, embeddings)"
      ],
      "metadata": {
        "id": "l8Yy5KVZOPqz"
      },
      "execution_count": 21,
      "outputs": []
    },
    {
      "cell_type": "code",
      "source": [
        "from langchain.chains.combine_documents import create_stuff_documents_chain\n",
        "\n",
        "prompt = ChatPromptTemplate.from_template(\"\"\"Answer the following question based only on the provided context:\n",
        "\n",
        "<context>\n",
        "{context}\n",
        "</context>\n",
        "\n",
        "Question: {input}\"\"\")\n",
        "\n",
        "document_chain = create_stuff_documents_chain(llm, prompt)"
      ],
      "metadata": {
        "id": "KDK_SKzjOUjv"
      },
      "execution_count": 22,
      "outputs": []
    },
    {
      "cell_type": "code",
      "source": [
        "from langchain_core.documents import Document\n",
        "\n",
        "document_chain.invoke({\n",
        "    \"input\": \"how can langsmith help with testing?\",\n",
        "    \"context\": [Document(page_content=\"langsmith can let you visualize test results\")]\n",
        "})"
      ],
      "metadata": {
        "colab": {
          "base_uri": "https://localhost:8080/",
          "height": 35
        },
        "id": "Rb3k6so9OWy1",
        "outputId": "48a8c3d8-4a70-4adb-c901-5e5faaa77728"
      },
      "execution_count": 23,
      "outputs": [
        {
          "output_type": "execute_result",
          "data": {
            "text/plain": [
              "'Langsmith can help with testing by allowing you to visualize test results.'"
            ],
            "application/vnd.google.colaboratory.intrinsic+json": {
              "type": "string"
            }
          },
          "metadata": {},
          "execution_count": 23
        }
      ]
    },
    {
      "cell_type": "code",
      "source": [
        "from langchain.chains import create_retrieval_chain\n",
        "\n",
        "retriever = vector.as_retriever()\n",
        "retrieval_chain = create_retrieval_chain(retriever, document_chain)\n",
        "\n",
        "response = retrieval_chain.invoke({\"input\": \"how can langsmith help with testing?\"})\n",
        "print(response[\"answer\"])"
      ],
      "metadata": {
        "colab": {
          "base_uri": "https://localhost:8080/"
        },
        "id": "W3KzqqYVOmPX",
        "outputId": "9ce5f72e-0a42-4905-8d98-fe8332041e08"
      },
      "execution_count": 24,
      "outputs": [
        {
          "output_type": "stream",
          "name": "stdout",
          "text": [
            "LangSmith helps with testing in several ways:\n",
            "\n",
            "1. **Initial Test Set**: Developers can create datasets consisting of inputs and reference outputs to run tests on their LLM applications. These test cases can be uploaded in bulk or generated from application traces, facilitating a more test-driven approach.\n",
            "\n",
            "2. **Comparison View**: It offers a user-friendly comparison view that allows developers to see results for different application configurations side-by-side, helping to identify regressions in test scores across multiple revisions.\n",
            "\n",
            "3. **Beta Testing**: During beta testing, LangSmith enables developers to collect data on application performance, understand input types that lead to success or failure, and gather feedback to curate test cases.\n",
            "\n",
            "4. **Capturing Feedback**: LangSmith allows users to attach feedback scores to logged traces, which helps in identifying problematic responses and focusing on runs that require attention.\n",
            "\n",
            "5. **Annotating Traces**: Users can send runs to annotation queues for detailed inspection and evaluation by PMs, engineers, or subject matter experts, which helps catch regressions across important criteria.\n",
            "\n",
            "6. **Adding Runs to Datasets**: As the application evolves, users can add runs as examples to datasets, expanding test coverage based on real-world scenarios.\n",
            "\n",
            "7. **Automations**: LangSmith supports automations that allow users to perform actions on traces in near real-time, such as scoring traces and sending them to annotation queues or datasets.\n",
            "\n",
            "Overall, these features provide a comprehensive framework for testing LLM applications throughout the development lifecycle.\n"
          ]
        }
      ]
    },
    {
      "cell_type": "markdown",
      "source": [
        "# Agent\n"
      ],
      "metadata": {
        "id": "W39W3xsTQiWI"
      }
    },
    {
      "cell_type": "code",
      "source": [
        "from langchain_community.utilities import SerpAPIWrapper"
      ],
      "metadata": {
        "id": "GueIKFVVQj_G"
      },
      "execution_count": 27,
      "outputs": []
    },
    {
      "cell_type": "code",
      "source": [
        "!pip install google-search-results"
      ],
      "metadata": {
        "colab": {
          "base_uri": "https://localhost:8080/"
        },
        "id": "QU2LmplzRMmS",
        "outputId": "7b17db56-ee35-4bcb-9320-ad862969f25b"
      },
      "execution_count": 30,
      "outputs": [
        {
          "output_type": "stream",
          "name": "stdout",
          "text": [
            "Collecting google-search-results\n",
            "  Downloading google_search_results-2.4.2.tar.gz (18 kB)\n",
            "  Preparing metadata (setup.py) ... \u001b[?25l\u001b[?25hdone\n",
            "Requirement already satisfied: requests in /usr/local/lib/python3.10/dist-packages (from google-search-results) (2.32.3)\n",
            "Requirement already satisfied: charset-normalizer<4,>=2 in /usr/local/lib/python3.10/dist-packages (from requests->google-search-results) (3.4.0)\n",
            "Requirement already satisfied: idna<4,>=2.5 in /usr/local/lib/python3.10/dist-packages (from requests->google-search-results) (3.10)\n",
            "Requirement already satisfied: urllib3<3,>=1.21.1 in /usr/local/lib/python3.10/dist-packages (from requests->google-search-results) (2.2.3)\n",
            "Requirement already satisfied: certifi>=2017.4.17 in /usr/local/lib/python3.10/dist-packages (from requests->google-search-results) (2024.8.30)\n",
            "Building wheels for collected packages: google-search-results\n",
            "  Building wheel for google-search-results (setup.py) ... \u001b[?25l\u001b[?25hdone\n",
            "  Created wheel for google-search-results: filename=google_search_results-2.4.2-py3-none-any.whl size=32009 sha256=0fc83621cbf09e608ea4f6a3c62d1f4dac11e479495aaf75699e1ab3273b0099\n",
            "  Stored in directory: /root/.cache/pip/wheels/d3/b2/c3/03302d12bb44a2cdff3c9371f31b72c0c4e84b8d2285eeac53\n",
            "Successfully built google-search-results\n",
            "Installing collected packages: google-search-results\n",
            "Successfully installed google-search-results-2.4.2\n"
          ]
        }
      ]
    },
    {
      "cell_type": "code",
      "source": [
        "import os\n",
        "os.environ[\"SERPAPI_API_KEY\"]=\"\""
      ],
      "metadata": {
        "id": "vwqpiw8tRAMK"
      },
      "execution_count": 26,
      "outputs": []
    },
    {
      "cell_type": "code",
      "source": [
        "from langchain.agents import load_tools\n",
        "tools = load_tools([\"serpapi\"])"
      ],
      "metadata": {
        "id": "NimmBJyJQnoY"
      },
      "execution_count": 32,
      "outputs": []
    },
    {
      "cell_type": "code",
      "source": [
        "from langchain.agents import initialize_agent\n",
        "from langchain.llms import OpenAI\n",
        "\n",
        "# Initialize an LLM (e.g., OpenAI)\n",
        "llm = ChatOpenAI(temperature=0)  # Adjust temperature as needed\n",
        "\n",
        "# Initialize the agent with the tools\n",
        "agent = initialize_agent(\n",
        "    tools=tools,\n",
        "    llm=llm,\n",
        "    agent=\"zero-shot-react-description\",  # This agent type uses LLM to decide on tool usage\n",
        "    verbose=True\n",
        ")"
      ],
      "metadata": {
        "colab": {
          "base_uri": "https://localhost:8080/"
        },
        "id": "tWX8eMjvQzHg",
        "outputId": "885c6dd0-392e-4972-a1a4-eeedd7be5219"
      },
      "execution_count": 36,
      "outputs": [
        {
          "output_type": "stream",
          "name": "stderr",
          "text": [
            "<ipython-input-36-874e123068c4>:8: LangChainDeprecationWarning: The function `initialize_agent` was deprecated in LangChain 0.1.0 and will be removed in 1.0. Use :meth:`~Use new agent constructor methods like create_react_agent, create_json_agent, create_structured_chat_agent, etc.` instead.\n",
            "  agent = initialize_agent(\n"
          ]
        }
      ]
    },
    {
      "cell_type": "code",
      "source": [
        "# Use the agent to answer a question\n",
        "response = agent.run(\"who is the director of the walking dead series? what is his current age raised to the 0.35 power\")\n",
        "print(response)"
      ],
      "metadata": {
        "colab": {
          "base_uri": "https://localhost:8080/"
        },
        "id": "sFrHmAlwSUO-",
        "outputId": "fdfbb99f-056c-41cc-b1f4-86e032815013"
      },
      "execution_count": 38,
      "outputs": [
        {
          "output_type": "stream",
          "name": "stdout",
          "text": [
            "\n",
            "\n",
            "\u001b[1m> Entering new AgentExecutor chain...\u001b[0m\n",
            "\u001b[32;1m\u001b[1;3mI should use the search tool to find the director of The Walking Dead series and then calculate his current age raised to the 0.35 power.\n",
            "Action: Search\n",
            "Action Input: Director of The Walking Dead series\u001b[0m\n",
            "Observation: \u001b[36;1m\u001b[1;3m['The Walking Dead creator Robert Kirkman is also an executive producer and writer of the television series. On January 20, 2010, AMC officially announced ...', 'Series Directed by (54) · Greg Nicotero · Michael E. Satrazemis · David Boyd · Ernest R. Dickerson · Guy Ferland · Billy Gierhart · Laura Belsey · Jeffrey F. January.', 'The Walking Dead · Creator · Frank Darabont · Stars · Andrew Lincoln · Norman Reedus · Melissa McBride.', 'James joined the cast of Fear the Walking Dead in season four and Amelio joined the cast in season five. ... Greg Nicotero also served as the primary director for ...', 'The Walking Dead season 1 ; Andrew Lincoln · Jon Bernthal · Sarah Wayne Callies · Laurie Holden · Jeffrey DeMunn · Steven Yeun · Chandler Riggs · 6 · AMC.', \"Billy Gierhart, a steadfast hand at the helm of The Walking Dead, has earned his stripes on television's most thrilling shows, bringing to life nail-biting ...\", 'Dave Erickson created the show and ran it for the first 3 seasons. He had a 7 year story arc all mapped out that sounded epic. Around S2 he was ...', \"Angela Kang - Showrunner / Executive Producer / Writer. Angela Kang is an American television writer currently serving as Showrunner on AMC's The Walking Dead.\", 'Writing quality diminished and too many important characters left. The show got worse at developing new characters after S1-3, as more original characters died ...']\u001b[0m\n",
            "Thought:\u001b[32;1m\u001b[1;3mI need to search for the age of the director of The Walking Dead series.\n",
            "Action: Search\n",
            "Action Input: Age of The Walking Dead series director\u001b[0m\n",
            "Observation: \u001b[36;1m\u001b[1;3m['Age of the Living Dead · Creator. Simon Phillips · Stars · Nicola Posener · Simon Phillips · Deji LaRay.', 'The Walking Dead: Created by Frank Darabont. With Norman Reedus, Melissa McBride, Lauren Cohan, Christian Serratos. Sheriff Deputy Rick Grimes wakes up from ...', 'The Walking Dead is an American post-apocalyptic horror drama television series developed by Frank Darabont, based on the comic book series of the same name', 'Rick and Shane were 37, Lori is slightly younger by only a year or two. Carl is 12. Dale is 64. Andrea was 36, and Amy was 24.', 'Robert Kirkman is an American comic book writer, screenwriter, and producer. He is best known for co-creating The Walking Dead, Fear the Walking Dead, ...', 'The show is based on the comic book series of the same name by Robert Kirkman. Trivia. The show was originally developed by Frank Darabont, the director of The ...', \"Glenn Rhee (TV Series) ; Age. Mid 20s ; Occupation. Pre-Apocalypse. Pizza Delivery Boy. Post-Apocalypse. Former Supply Runner for the Rick's Group; Former Member ...\", 'Judith Grimes: 12 Years Old ... How old is Judith Grimes? She was the first baby born on the show, and her mother Lori died while giving birth.', 'Ever wondered how your favorite \"The Walking Dead\" cast members have aged through the apocalypse? \\u200d♂️ Dive into a unique journey from 2010 ...', 'Rick: Mid 30s to early 40s Carl: 12-15 Judith: 0-10 months Daryl: Mid 30s to early 40s (though Norman Reedus is older than Andrew Lincoln in real life)']\u001b[0m\n",
            "Thought:\u001b[32;1m\u001b[1;3mI need to calculate the current age of the director of The Walking Dead series raised to the 0.35 power.\n",
            "Action: Search\n",
            "Action Input: Current age of The Walking Dead series director\u001b[0m\n",
            "Observation: \u001b[36;1m\u001b[1;3m['Born. Ferenc Árpád Darabont. (1959-01-28) January 28, 1959 (age 65). Montbéliard, France ; Other names, Frank A. Darabont Ardeth Bey ; Citizenship, United States.', 'The Walking Dead is an American post-apocalyptic horror drama television series developed by Frank Darabont, based on the comic book series of the same name', 'The Walking Dead. TV Series; 2010–2022 · TV-MA; 45m. IMDb RATING. 8.1/10. 1.1M. YOUR ... Watch \"The Walking Dead\" Cast Answer Your Burning Questions. The Rise of ...', 'Robert Kirkman was born on 30 November 1978 in Richmond, Kentucky, USA. He is a writer and producer, known for Invincible (2021), Fear the Walking Dead (2015) ...', 'Certain characters ages were stated. Rick and Shane were 37, Lori is slightly younger by only a year or two. Carl is 12. Dale is 64.', 'Premiered. Oct 31, 2010 ; Platform. AMC ; Genre. Horror ; Trivia. The show was originally developed by Frank Darabont, the director of The Shawshank Redemption.', 'The Walking Dead is an American post-apocalyptic horror drama television series developed by Frank Darabont, based on the comic book series of the same name', 'In the most recent issue, Carl declared himself to be a de facto leader, while TV Carl looks to be in his late teens by this point (Riggs is now 17). The ...', 'Juggernaut zombie series The Walking Dead ran on AMC for 11 seasons, giving once-casual fans many an opportunity to jump ship along the way.', 'Age. Early to Mid 70s. Occupation. Pre-Apocalypse. Veterinarian; Farmhand and Head of the Greene Family Farm. Post-Apocalypse. Group Medic; Head of the Prison ...']\u001b[0m\n",
            "Thought:\u001b[32;1m\u001b[1;3mI now know the final answer\n",
            "Final Answer: The director of The Walking Dead series is Frank Darabont, and his current age raised to the 0.35 power is approximately 4.68.\u001b[0m\n",
            "\n",
            "\u001b[1m> Finished chain.\u001b[0m\n",
            "The director of The Walking Dead series is Frank Darabont, and his current age raised to the 0.35 power is approximately 4.68.\n"
          ]
        }
      ]
    }
  ]
}